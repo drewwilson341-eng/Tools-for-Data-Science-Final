{
 "cells": [
  {
   "cell_type": "markdown",
   "id": "968694c9-9925-443c-943c-3b950c65db70",
   "metadata": {},
   "source": [
    "# Data Science Tools and Ecosystem"
   ]
  },
  {
   "cell_type": "markdown",
   "id": "18d64dc5-5810-4a79-94a7-86ed68e0b199",
   "metadata": {},
   "source": [
    "In this notebook, Data Science Tools and Ecosystem are summarized "
   ]
  },
  {
   "cell_type": "markdown",
   "id": "6f27b6f5-d6b8-4cdd-85ad-519973caac3c",
   "metadata": {},
   "source": [
    "***Objectices:***\n",
    "List of some open source tools for data science\n",
    "- MYSQL\n",
    "- Apache CouchDB\n",
    "- Hadoop\n",
    "- Ceph\n",
    "- Kubeflow\n"
   ]
  },
  {
   "cell_type": "markdown",
   "id": "569ab98c-e0d2-444f-bfbd-6a231c6b1885",
   "metadata": {},
   "source": [
    "Some popular languages that Data Scientists use are:\n",
    "1. Python\n",
    "2. R \n",
    "3. SQL\n",
    "4. Java\n",
    "5. JavaScript\n",
    "6. C++\n",
    "7. Scala"
   ]
  },
  {
   "cell_type": "markdown",
   "id": "e7a3494f-5758-4fff-886e-61638cea6137",
   "metadata": {},
   "source": [
    "Some of the commonly used libraries used by Data Scientists include:\n",
    "1. Pandas\n",
    "2. NumPY\n",
    "3. Matplotlib\n",
    "4. Scikit\n",
    "5. Seaborn"
   ]
  },
  {
   "cell_type": "markdown",
   "id": "f1165faf-8b0c-48df-a9cb-16175431555c",
   "metadata": {},
   "source": [
    "|Data Science Tools|\n",
    "|------------------|\n",
    "|Jupyter Notebook|\n",
    "|VS Code|\n",
    "|RStudio|\n"
   ]
  },
  {
   "cell_type": "markdown",
   "id": "554993fe-ab59-43c6-a1cc-9a1faeb031ff",
   "metadata": {},
   "source": [
    "### Below are a few examples of evaluating arithmetic exression in Python"
   ]
  },
  {
   "cell_type": "code",
   "execution_count": 17,
   "id": "72892cef-e160-4806-967f-7c3590de376f",
   "metadata": {},
   "outputs": [
    {
     "name": "stdout",
     "output_type": "stream",
     "text": [
      "3\n",
      "5\n",
      "20\n",
      "5.0\n"
     ]
    }
   ],
   "source": [
    "print(2+1)\n",
    "print(10-5)\n",
    "print(2*10)\n",
    "print(10/2)"
   ]
  },
  {
   "cell_type": "code",
   "execution_count": 19,
   "id": "f109d7cc-4832-4f71-9dda-17f514f16190",
   "metadata": {},
   "outputs": [
    {
     "data": {
      "text/plain": [
       "17"
      ]
     },
     "execution_count": 19,
     "metadata": {},
     "output_type": "execute_result"
    }
   ],
   "source": [
    "#This a simple arithmetic expression to mutiply then add integers\n",
    "(3*4)+5"
   ]
  },
  {
   "cell_type": "code",
   "execution_count": 1,
   "id": "6c916222-8919-42ed-a58a-86850ceef85e",
   "metadata": {},
   "outputs": [
    {
     "data": {
      "text/plain": [
       "3.3333333333333335"
      ]
     },
     "execution_count": 1,
     "metadata": {},
     "output_type": "execute_result"
    }
   ],
   "source": [
    "# This will convert 200 minutes to hours by diving by 60 \n",
    "\n",
    "200/60"
   ]
  },
  {
   "cell_type": "code",
   "execution_count": null,
   "id": "328e5a18-0f85-41d9-ae25-29f8245ddc51",
   "metadata": {},
   "outputs": [],
   "source": []
  }
 ],
 "metadata": {
  "kernelspec": {
   "display_name": "Python [conda env:base] *",
   "language": "python",
   "name": "conda-base-py"
  },
  "language_info": {
   "codemirror_mode": {
    "name": "ipython",
    "version": 3
   },
   "file_extension": ".py",
   "mimetype": "text/x-python",
   "name": "python",
   "nbconvert_exporter": "python",
   "pygments_lexer": "ipython3",
   "version": "3.13.5"
  }
 },
 "nbformat": 4,
 "nbformat_minor": 5
}
